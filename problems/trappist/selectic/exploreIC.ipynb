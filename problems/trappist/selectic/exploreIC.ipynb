{
 "cells": [
  {
   "cell_type": "code",
   "execution_count": 4,
   "metadata": {
    "collapsed": true
   },
   "outputs": [],
   "source": [
    "import rebound\n",
    "import reboundx\n",
    "import numpy as np\n",
    "%matplotlib inline\n",
    "import matplotlib.pyplot as plt\n",
    "import sys\n",
    "import pandas as pd\n",
    "\n",
    "sys.path.append('../')\n",
    "\n",
    "from ic import output, initialize, plotsa\n",
    "\n",
    "from collections import OrderedDict\n",
    "planets = ['b', 'c', 'd', 'e', 'f', 'g', 'h']\n",
    "resonances = OrderedDict([(('b','c'),(8,5)),(('c','d'),(5,3)),(('d','e'),(3,2)),(('e','f'),(3,2)),(('f','g'),(4,3)),(('g','h'),(3,2))]) # ordered so we add planets in right sequence\n",
    "threebodyresonances = OrderedDict([(('b','c','d'),(2,3)),(('c','d','e'),(1,2)),(('d','e','f'),(2,3)),(('e','f','g'),(1,2)),(('f','g','h'),(1,1))])"
   ]
  },
  {
   "cell_type": "code",
   "execution_count": 5,
   "metadata": {
    "collapsed": true
   },
   "outputs": [],
   "source": [
    "def plotscaling(mag, taues):\n",
    "    fig, axarr = plt.subplots(ncols=1, nrows=4, figsize=(18,10))\n",
    "    colors = ['red','blue','green','cyan','magenta','yellow','black']\n",
    "    handles = []\n",
    "\n",
    "    for i, taue in enumerate(taues):\n",
    "        filename='data/mag{0:.4e}taue{1:.2e}.bin'.format(mag,taue)\n",
    "        sa = rebound.SimulationArchive(filename)\n",
    "\n",
    "        color = colors[i]\n",
    "\n",
    "        Nout = len(sa)\n",
    "        N = sa[0].N\n",
    "\n",
    "        outputs = initialize(planets, resonances, threebodyresonances)\n",
    "        E = np.zeros(Nout)\n",
    "        Lz = np.zeros(Nout)\n",
    "        for i,sim in enumerate(sa):\n",
    "            ps = sim.particles\n",
    "            output(sim,planets,resonances,threebodyresonances,outputs)\n",
    "            E[i] = sim.calculate_energy()\n",
    "            x,y,Lz[i] = sim.calculate_angular_momentum()\n",
    "\n",
    "        t, e, P, Pratio, phi1, phi2, deltapomega, phi3body = outputs\n",
    "        compressionfactor = 1.e6*(taue/100)\n",
    "        for key in t.keys():\n",
    "            t[key] = [time/compressionfactor for time in t[key]]\n",
    "\n",
    "        for p in planets:\n",
    "            axarr[0].plot(t[p], e[p], '.', color=color, alpha=0.1)\n",
    "\n",
    "        for resonance in resonances.items():\n",
    "            pair = resonance[0]\n",
    "            res = resonance[1]\n",
    "            resratio = res[0]/res[1] \n",
    "            axarr[1].plot(t[pair], np.array(Pratio[pair])-resratio, '.', color=color, alpha=0.1)\n",
    "            \n",
    "        axarr[2].plot(t['b'], E, '.', color=color, alpha=0.1)\n",
    "        axarr[3].plot(t['b'], Lz, '.', color=color, alpha=0.1)\n",
    "        #for resonance in threebodyresonances.items():\n",
    "        #    triad = resonance[0]\n",
    "        #    axarr[1].plot(t[triad], phi3body[triad], '.', color=color, alpha=0.1)\n",
    "\n",
    "        handles.append(mlines.Line2D([], [], color='white', marker='.',markersize=15, markerfacecolor=color, label=\"{0:.1e}\".format(taue)))\n",
    "\n",
    "    for ax in axarr.flatten():\n",
    "        ax.legend(handles=handles, numpoints=1, loc='upper left')\n",
    "    \n",
    "    return fig"
   ]
  },
  {
   "cell_type": "code",
   "execution_count": 7,
   "metadata": {
    "collapsed": false
   },
   "outputs": [
    {
     "data": {
      "text/html": [
       "<div>\n",
       "<table border=\"1\" class=\"dataframe\">\n",
       "  <thead>\n",
       "    <tr style=\"text-align: right;\">\n",
       "      <th></th>\n",
       "      <th>K</th>\n",
       "      <th>mag</th>\n",
       "      <th>filename</th>\n",
       "    </tr>\n",
       "  </thead>\n",
       "  <tbody>\n",
       "    <tr>\n",
       "      <th>0</th>\n",
       "      <td>125.210</td>\n",
       "      <td>0.139820</td>\n",
       "      <td>IC0K1.2521e+02mag1.3982e-01.bin</td>\n",
       "    </tr>\n",
       "    <tr>\n",
       "      <th>2</th>\n",
       "      <td>74.471</td>\n",
       "      <td>0.001196</td>\n",
       "      <td>IC2K7.4471e+01mag1.1961e-03.bin</td>\n",
       "    </tr>\n",
       "    <tr>\n",
       "      <th>4</th>\n",
       "      <td>859.130</td>\n",
       "      <td>0.043822</td>\n",
       "      <td>IC4K8.5913e+02mag4.3822e-02.bin</td>\n",
       "    </tr>\n",
       "    <tr>\n",
       "      <th>6</th>\n",
       "      <td>610.550</td>\n",
       "      <td>0.009907</td>\n",
       "      <td>IC6K6.1055e+02mag9.9069e-03.bin</td>\n",
       "    </tr>\n",
       "    <tr>\n",
       "      <th>7</th>\n",
       "      <td>14.211</td>\n",
       "      <td>0.218653</td>\n",
       "      <td>IC7K1.4211e+01mag2.1865e-01.bin</td>\n",
       "    </tr>\n",
       "  </tbody>\n",
       "</table>\n",
       "</div>"
      ],
      "text/plain": [
       "         K       mag                         filename\n",
       "0  125.210  0.139820  IC0K1.2521e+02mag1.3982e-01.bin\n",
       "2   74.471  0.001196  IC2K7.4471e+01mag1.1961e-03.bin\n",
       "4  859.130  0.043822  IC4K8.5913e+02mag4.3822e-02.bin\n",
       "6  610.550  0.009907  IC6K6.1055e+02mag9.9069e-03.bin\n",
       "7   14.211  0.218653  IC7K1.4211e+01mag2.1865e-01.bin"
      ]
     },
     "execution_count": 7,
     "metadata": {},
     "output_type": "execute_result"
    }
   ],
   "source": [
    "df = pd.read_csv(\"../data.csv\", index_col=0)\n",
    "df.head()"
   ]
  },
  {
   "cell_type": "code",
   "execution_count": null,
   "metadata": {
    "collapsed": true
   },
   "outputs": [],
   "source": [
    "for fname in df['filename']:\n",
    "    sa = rebound.SimulationArchive(fname)\n",
    "    "
   ]
  }
 ],
 "metadata": {
  "kernelspec": {
   "display_name": "Python 3",
   "language": "python",
   "name": "python3"
  },
  "language_info": {
   "codemirror_mode": {
    "name": "ipython",
    "version": 3
   },
   "file_extension": ".py",
   "mimetype": "text/x-python",
   "name": "python",
   "nbconvert_exporter": "python",
   "pygments_lexer": "ipython3",
   "version": "3.4.3"
  }
 },
 "nbformat": 4,
 "nbformat_minor": 0
}
