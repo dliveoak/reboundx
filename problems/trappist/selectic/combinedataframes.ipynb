{
 "cells": [
  {
   "cell_type": "code",
   "execution_count": 2,
   "metadata": {
    "collapsed": false
   },
   "outputs": [
    {
     "data": {
      "text/html": [
       "<div>\n",
       "<table border=\"1\" class=\"dataframe\">\n",
       "  <thead>\n",
       "    <tr style=\"text-align: right;\">\n",
       "      <th></th>\n",
       "      <th>K</th>\n",
       "      <th>mag</th>\n",
       "      <th>filename</th>\n",
       "    </tr>\n",
       "  </thead>\n",
       "  <tbody>\n",
       "    <tr>\n",
       "      <th>984</th>\n",
       "      <td>28.237</td>\n",
       "      <td>0.076254</td>\n",
       "      <td>IC984K2.8237e+01mag7.6254e-02.bin</td>\n",
       "    </tr>\n",
       "    <tr>\n",
       "      <th>986</th>\n",
       "      <td>201.970</td>\n",
       "      <td>0.052832</td>\n",
       "      <td>IC986K2.0197e+02mag5.2832e-02.bin</td>\n",
       "    </tr>\n",
       "    <tr>\n",
       "      <th>990</th>\n",
       "      <td>914.570</td>\n",
       "      <td>0.006452</td>\n",
       "      <td>IC990K9.1457e+02mag6.4517e-03.bin</td>\n",
       "    </tr>\n",
       "    <tr>\n",
       "      <th>995</th>\n",
       "      <td>53.041</td>\n",
       "      <td>0.903496</td>\n",
       "      <td>IC995K5.3041e+01mag9.0350e-01.bin</td>\n",
       "    </tr>\n",
       "    <tr>\n",
       "      <th>997</th>\n",
       "      <td>77.841</td>\n",
       "      <td>0.530969</td>\n",
       "      <td>IC997K7.7841e+01mag5.3097e-01.bin</td>\n",
       "    </tr>\n",
       "  </tbody>\n",
       "</table>\n",
       "</div>"
      ],
      "text/plain": [
       "           K       mag                           filename\n",
       "984   28.237  0.076254  IC984K2.8237e+01mag7.6254e-02.bin\n",
       "986  201.970  0.052832  IC986K2.0197e+02mag5.2832e-02.bin\n",
       "990  914.570  0.006452  IC990K9.1457e+02mag6.4517e-03.bin\n",
       "995   53.041  0.903496  IC995K5.3041e+01mag9.0350e-01.bin\n",
       "997   77.841  0.530969  IC997K7.7841e+01mag5.3097e-01.bin"
      ]
     },
     "execution_count": 2,
     "metadata": {},
     "output_type": "execute_result"
    }
   ],
   "source": [
    "import pandas as pd\n",
    "import numpy as np\n",
    "import os\n",
    "\n",
    "#columns = ['K', 'mag', 'filename']\n",
    "frames = []\n",
    "path = 'data/'\n",
    "for f in os.listdir(path):\n",
    "        if f.endswith('.csv'):\n",
    "            frames.append(pd.read_csv(path+f, index_col=0))\n",
    "\n",
    "df = pd.concat(frames)\n",
    "df = df.sort_index()\n",
    "df.tail()"
   ]
  },
  {
   "cell_type": "code",
   "execution_count": 7,
   "metadata": {
    "collapsed": false
   },
   "outputs": [
    {
     "data": {
      "text/plain": [
       "(369, 3)"
      ]
     },
     "execution_count": 7,
     "metadata": {},
     "output_type": "execute_result"
    }
   ],
   "source": [
    "df.shape"
   ]
  },
  {
   "cell_type": "code",
   "execution_count": 5,
   "metadata": {
    "collapsed": false
   },
   "outputs": [],
   "source": [
    "df.to_csv('../data.csv', encoding='ascii')"
   ]
  },
  {
   "cell_type": "code",
   "execution_count": 18,
   "metadata": {
    "collapsed": false
   },
   "outputs": [],
   "source": [
    "run = df.iloc[5]"
   ]
  },
  {
   "cell_type": "code",
   "execution_count": 19,
   "metadata": {
    "collapsed": false
   },
   "outputs": [],
   "source": [
    "import rebound\n",
    "sa = rebound.SimulationArchive('data/'+run['filename'])"
   ]
  },
  {
   "cell_type": "code",
   "execution_count": 20,
   "metadata": {
    "collapsed": false
   },
   "outputs": [
    {
     "data": {
      "text/plain": [
       "2000.0001269248328"
      ]
     },
     "execution_count": 20,
     "metadata": {},
     "output_type": "execute_result"
    }
   ],
   "source": [
    "sa[-1].t"
   ]
  },
  {
   "cell_type": "code",
   "execution_count": null,
   "metadata": {
    "collapsed": true
   },
   "outputs": [],
   "source": []
  }
 ],
 "metadata": {
  "kernelspec": {
   "display_name": "Python 3",
   "language": "python",
   "name": "python3"
  },
  "language_info": {
   "codemirror_mode": {
    "name": "ipython",
    "version": 3
   },
   "file_extension": ".py",
   "mimetype": "text/x-python",
   "name": "python",
   "nbconvert_exporter": "python",
   "pygments_lexer": "ipython3",
   "version": "3.4.3"
  }
 },
 "nbformat": 4,
 "nbformat_minor": 0
}
