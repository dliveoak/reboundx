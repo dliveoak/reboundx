{
 "cells": [
  {
   "cell_type": "code",
   "execution_count": 10,
   "metadata": {
    "collapsed": false
   },
   "outputs": [],
   "source": [
    "import rebound\n",
    "import reboundx\n",
    "import numpy as np\n",
    "\n",
    "#starterfilename='data/startermag1.0000e-03.bin'\n",
    "#safilename='data/mag1.0000e-03taue2.15e+02.bin'\n",
    "#rebxfilename='data/mag1.0000e-03taue2.15e+02rebx.bin'\n",
    "starterfilename='data/startermag1.0000e-03.bin'\n",
    "safilename='data/mag1.0000e-03taue1.00e+02.bin'\n",
    "rebxfilename='data/mag1.0000e-03taue1.00e+02rebx.bin'\n",
    "sa = rebound.SimulationArchive(safilename)"
   ]
  },
  {
   "cell_type": "code",
   "execution_count": 11,
   "metadata": {
    "collapsed": false
   },
   "outputs": [
    {
     "data": {
      "text/plain": [
       "8"
      ]
     },
     "execution_count": 11,
     "metadata": {},
     "output_type": "execute_result"
    }
   ],
   "source": [
    "sa.Nblob"
   ]
  },
  {
   "cell_type": "code",
   "execution_count": 12,
   "metadata": {
    "collapsed": false
   },
   "outputs": [
    {
     "data": {
      "text/plain": [
       "20000.000019834857"
      ]
     },
     "execution_count": 12,
     "metadata": {},
     "output_type": "execute_result"
    }
   ],
   "source": [
    "sa[-1].t"
   ]
  },
  {
   "cell_type": "code",
   "execution_count": 13,
   "metadata": {
    "collapsed": true
   },
   "outputs": [],
   "source": [
    "tnext = sa[1].t\n",
    "sim = sa[0]\n",
    "rebx = reboundx.Extras.from_file(sim, rebxfilename)"
   ]
  },
  {
   "cell_type": "code",
   "execution_count": 14,
   "metadata": {
    "collapsed": true
   },
   "outputs": [],
   "source": [
    "damping = rebx.get_effect(\"tides_synchronous_ecc_damping\")\n",
    "rebx.integrator=\"rk4\"\n",
    "damping.force_as_operator = 1\n",
    "damping.operator_order = 1"
   ]
  },
  {
   "cell_type": "code",
   "execution_count": 15,
   "metadata": {
    "collapsed": false
   },
   "outputs": [
    {
     "name": "stdout",
     "output_type": "stream",
     "text": [
      "CPU times: user 51.1 s, sys: 11 ms, total: 51.2 s\n",
      "Wall time: 51.2 s\n"
     ]
    }
   ],
   "source": [
    "%%time\n",
    "sim.integrate(tnext)"
   ]
  },
  {
   "cell_type": "code",
   "execution_count": 16,
   "metadata": {
    "collapsed": false
   },
   "outputs": [
    {
     "name": "stdout",
     "output_type": "stream",
     "text": [
      "---------------------------------\n",
      "REBOUND version:     \t3.2.3\n",
      "REBOUND built on:    \tMar  7 2017 21:51:15\n",
      "Number of particles: \t8\n",
      "Selected integrator: \twhfast\n",
      "Simulation time:     \t2500.000183\n",
      "Current timestep:    \t0.000291\n",
      "---------------------------------\n",
      "<rebound.Particle object, m=0.08 x=-2.293672295436117e-06 y=-3.349948518533917e-07 z=-1.0328215322985122e-08 vx=-0.0003803074255664967 vy=-0.0011180789341592456 vz=5.46691477336161e-06>\n",
      "<rebound.Particle object, m=4.151838160147789e-06 x=0.00844660470963243 y=-0.007247675778660854 z=2.0964528135650946e-05 vx=10.96134899313568 vy=12.789314649173727 vz=-0.10192338166915269>\n",
      "<rebound.Particle object, m=2.5978149814924043e-06 x=0.013541693082992258 y=-0.007037130213142096 z=3.6125057799810494e-05 vx=6.632873292199609 vy=12.74660493930776 vz=0.04488974018216331>\n",
      "<rebound.Particle object, m=2.2555560091848006e-06 x=-0.021054654880924905 y=0.00594433847506403 z=-6.366403174597779e-05 vx=-3.240804478683272 vy=-11.437952813023013 vz=0.012686183844961205>\n",
      "<rebound.Particle object, m=2.702703148169957e-06 x=-0.005069656486463695 y=0.027263338359311627 z=8.866815634248332e-07 vx=-10.503802550466412 vy=-2.2467414523915346 vz=-0.08587789171923665>\n",
      "<rebound.Particle object, m=1.9419454107251544e-06 x=0.036256358149516936 y=-0.0005868110684714759 z=0.00011167756885440185 vx=0.2953352104894352 vy=9.402040739341222 vz=0.01580501379012554>\n",
      "<rebound.Particle object, m=1.4836078250227998e-06 x=0.04131993930686755 y=-0.01746421333288821 z=0.0002744098324174916 vx=3.1390238159866666 vy=7.761021964607166 vz=0.028696075018672274>\n",
      "<rebound.Particle object, m=7.709749274501146e-07 x=0.055419916489750136 y=0.019623235676319378 z=0.00021087810553006975 vx=-2.3973017145484965 vy=6.9165471929248765 vz=-0.0007486382797266093>\n",
      "---------------------------------\n"
     ]
    }
   ],
   "source": [
    "sim.status()"
   ]
  },
  {
   "cell_type": "code",
   "execution_count": 17,
   "metadata": {
    "collapsed": false
   },
   "outputs": [
    {
     "name": "stdout",
     "output_type": "stream",
     "text": [
      "---------------------------------\n",
      "REBOUND version:     \t3.2.3\n",
      "REBOUND built on:    \tMar  7 2017 21:51:15\n",
      "Number of particles: \t8\n",
      "Selected integrator: \twhfast\n",
      "Simulation time:     \t2500.000183\n",
      "Current timestep:    \t0.000291\n",
      "---------------------------------\n",
      "<rebound.Particle object, m=0.08 x=-2.293672295554672e-06 y=-3.3499485220193613e-07 z=-1.0328215321280898e-08 vx=-0.0003803074251663332 vy=-0.0011180789344356205 vz=5.46691477441748e-06>\n",
      "<rebound.Particle object, m=4.151838160147789e-06 x=0.008446604713049501 y=-0.00724767577467397 z=2.0964528103878297e-05 vx=10.961348987105952 vy=12.789314654347097 vz=-0.10192338168412281>\n",
      "<rebound.Particle object, m=2.5978149814924043e-06 x=0.013541693085059904 y=-0.007037130209168538 z=3.6125057813803594e-05 vx=6.632873288447429 vy=12.74660494125616 vz=0.044889740172154545>\n",
      "<rebound.Particle object, m=2.2555560091848006e-06 x=-0.021054654881935177 y=0.005944338471498421 z=-6.366403174202306e-05 vx=-3.240804476703226 vy=-11.437952813582093 vz=0.012686183850948078>\n",
      "<rebound.Particle object, m=2.702703148169957e-06 x=-0.005069656489738098 y=0.027263338358611236 z=8.866815366537025e-07 vx=-10.50380255023244 vy=-2.2467414536503854 vz=-0.0858778917192781>\n",
      "<rebound.Particle object, m=1.9419454107251544e-06 x=0.036256358149609 y=-0.0005868110655405314 z=0.00011167756885932882 vx=0.2953352097407511 vy=9.402040739353259 vz=0.015805013787819854>\n",
      "<rebound.Particle object, m=1.4836078250227998e-06 x=0.041319939307846096 y=-0.01746421333046883 z=0.00027440983242643717 vx=3.1390238155359644 vy=7.7610219647977114 vz=0.028696075015678488>\n",
      "<rebound.Particle object, m=7.709749274501146e-07 x=0.05541991648900281 y=0.019623235678475504 z=0.00021087810552983637 vx=-2.3973017148170443 vy=6.916547192829766 vz=-0.0007486382807484656>\n",
      "---------------------------------\n"
     ]
    }
   ],
   "source": [
    "sa[1].status()"
   ]
  },
  {
   "cell_type": "code",
   "execution_count": 18,
   "metadata": {
    "collapsed": true
   },
   "outputs": [],
   "source": [
    "starterfilename='data/startermag1.0000e-03.bin'\n",
    "sim = rebound.Simulation.from_file(starterfilename)\n",
    "taue=200.\n",
    "\n",
    "rebx = reboundx.Extras(sim)\n",
    "damping = rebx.add(\"tides_synchronous_ecc_damping\")\n",
    "\n",
    "ps = sim.particles\n",
    "aref = ps[1].a\n",
    "mref = ps[1].m\n",
    "for p in ps[1:]:\n",
    "    p.params[\"tides_synchronous_tau_e\"] = -taue*(p.m/mref)*(p.a/aref)**6.5\n",
    "\n",
    "rebx.integrator=\"rk4\"\n",
    "damping.force_as_operator = 1\n",
    "damping.operator_order = 1\n",
    "\n",
    "filename='test.bin'\n",
    "rebx.save(\"testrebx.bin\")\n",
    "\n",
    "tmax = 3.\n",
    "interval = 1.\n",
    "sim.initSimulationArchive('testarchive.bin', interval=interval)\n",
    "sim.integrate(tmax)\n"
   ]
  },
  {
   "cell_type": "code",
   "execution_count": 19,
   "metadata": {
    "collapsed": true
   },
   "outputs": [],
   "source": [
    "sa = rebound.SimulationArchive('testarchive.bin')"
   ]
  },
  {
   "cell_type": "code",
   "execution_count": 20,
   "metadata": {
    "collapsed": false
   },
   "outputs": [
    {
     "data": {
      "text/plain": [
       "3"
      ]
     },
     "execution_count": 20,
     "metadata": {},
     "output_type": "execute_result"
    }
   ],
   "source": [
    "sa.Nblob"
   ]
  },
  {
   "cell_type": "code",
   "execution_count": 21,
   "metadata": {
    "collapsed": true
   },
   "outputs": [],
   "source": [
    "tnext = sa[1].t\n",
    "sim = sa[0]\n",
    "rebx = reboundx.Extras.from_file(sim, 'testrebx.bin')\n",
    "damping = rebx.get_effect(\"tides_synchronous_ecc_damping\")\n",
    "rebx.integrator=\"rk4\"\n",
    "damping.force_as_operator = 1\n",
    "damping.operator_order = 1"
   ]
  },
  {
   "cell_type": "code",
   "execution_count": 22,
   "metadata": {
    "collapsed": true
   },
   "outputs": [],
   "source": [
    "sim.integrate(tnext)"
   ]
  },
  {
   "cell_type": "code",
   "execution_count": 23,
   "metadata": {
    "collapsed": false
   },
   "outputs": [
    {
     "name": "stdout",
     "output_type": "stream",
     "text": [
      "---------------------------------\n",
      "REBOUND version:     \t3.2.3\n",
      "REBOUND built on:    \tMar  7 2017 21:51:15\n",
      "Number of particles: \t8\n",
      "Selected integrator: \twhfast\n",
      "Simulation time:     \t1.000109\n",
      "Current timestep:    \t0.000291\n",
      "---------------------------------\n",
      "<rebound.Particle object, m=0.08 x=-1.3122065024961305e-06 y=2.5941790341144346e-06 z=-2.987421331949901e-09 vx=-0.0016538341874384255 vy=-0.00035439822907782433 vz=1.308328421454524e-07>\n",
      "<rebound.Particle object, m=4.151838160147789e-06 x=-0.006677052535789241 y=-0.008905997587724689 z=-0.00013447606893394055 vx=13.47308600615607 vy=-10.105569050666947 vz=0.0306584319457812>\n",
      "<rebound.Particle object, m=2.5978149814924043e-06 x=0.010216144050018751 y=-0.011332965214431476 z=2.6079025480228898e-05 vx=10.71061554442184 vy=9.586001749972791 vz=-0.1098856765682546>\n",
      "<rebound.Particle object, m=2.2555560091848006e-06 x=0.008754297767470151 y=-0.0193402494328904 z=2.5923525014019593e-05 vx=11.032998349672756 vy=5.326307748780626 vz=0.07633518122677106>\n",
      "<rebound.Particle object, m=2.702703148169957e-06 x=0.022579022397767785 y=-0.017783310518963574 z=0.00022179094445242537 vx=6.587451224667664 vy=7.9956319983173385 vz=-0.003981204685296828>\n",
      "<rebound.Particle object, m=1.9419454107251544e-06 x=0.03175631280948955 y=0.017697783778063362 z=-9.977676318464017e-06 vx=-4.4070550902960575 vy=8.283838801106949 vz=-0.01646243304055426>\n",
      "<rebound.Particle object, m=1.4836078250227998e-06 x=0.0036494907448768907 y=-0.04513275015543764 z=0.00013208590970863887 vx=8.26947306445459 vy=0.6502025763232459 vz=0.025275378104847406>\n",
      "<rebound.Particle object, m=7.709749274501146e-07 x=-0.05408053059540096 y=-0.021842368943698422 z=-0.000136095910634075 vx=2.7816720765071055 vy=-6.834368831416101 vz=-0.024956301774551954>\n",
      "---------------------------------\n"
     ]
    }
   ],
   "source": [
    "sim.status()"
   ]
  },
  {
   "cell_type": "code",
   "execution_count": 24,
   "metadata": {
    "collapsed": false
   },
   "outputs": [
    {
     "name": "stdout",
     "output_type": "stream",
     "text": [
      "---------------------------------\n",
      "REBOUND version:     \t3.2.3\n",
      "REBOUND built on:    \tMar  7 2017 21:51:15\n",
      "Number of particles: \t8\n",
      "Selected integrator: \twhfast\n",
      "Simulation time:     \t1.000109\n",
      "Current timestep:    \t0.000291\n",
      "---------------------------------\n",
      "<rebound.Particle object, m=0.08 x=-1.3122065024961046e-06 y=2.594179034114441e-06 z=-2.987421331949902e-09 vx=-0.0016538341874384216 vy=-0.0003543982290777984 vz=1.3083284214567109e-07>\n",
      "<rebound.Particle object, m=4.151838160147789e-06 x=-0.006677052535789454 y=-0.00890599758772453 z=-0.00013447606893394104 vx=13.473086006155832 vy=-10.105569050667267 vz=0.03065843194577637>\n",
      "<rebound.Particle object, m=2.5978149814924043e-06 x=0.010216144050018583 y=-0.011332965214431627 z=2.607902548023063e-05 vx=10.710615544421984 vy=9.586001749972635 vz=-0.10988567656825422>\n",
      "<rebound.Particle object, m=2.2555560091848006e-06 x=0.008754297767469976 y=-0.019340249432890484 z=2.5923525014018394e-05 vx=11.032998349672798 vy=5.326307748780526 vz=0.07633518122677119>\n",
      "<rebound.Particle object, m=2.702703148169957e-06 x=0.02257902239776768 y=-0.017783310518963695 z=0.00022179094445242542 vx=6.587451224667711 vy=7.995631998317301 vz=-0.003981204685296362>\n",
      "<rebound.Particle object, m=1.9419454107251544e-06 x=0.03175631280948962 y=0.017697783778063234 z=-9.977676318463758e-06 vx=-4.407055090296024 vy=8.283838801106965 vz=-0.01646243304055427>\n",
      "<rebound.Particle object, m=1.4836078250227998e-06 x=0.0036494907448767606 y=-0.04513275015543765 z=0.00013208590970863846 vx=8.269473064454592 vy=0.6502025763232216 vz=0.02527537810484748>\n",
      "<rebound.Particle object, m=7.709749274501146e-07 x=-0.054080530595401 y=-0.02184236894369832 z=-0.00013609591063407463 vx=2.7816720765070917 vy=-6.834368831416106 vz=-0.024956301774551985>\n",
      "---------------------------------\n"
     ]
    }
   ],
   "source": [
    "sa[1].status()"
   ]
  },
  {
   "cell_type": "code",
   "execution_count": null,
   "metadata": {
    "collapsed": true
   },
   "outputs": [],
   "source": []
  }
 ],
 "metadata": {
  "kernelspec": {
   "display_name": "Python 3",
   "language": "python",
   "name": "python3"
  },
  "language_info": {
   "codemirror_mode": {
    "name": "ipython",
    "version": 3
   },
   "file_extension": ".py",
   "mimetype": "text/x-python",
   "name": "python",
   "nbconvert_exporter": "python",
   "pygments_lexer": "ipython3",
   "version": "3.4.3"
  }
 },
 "nbformat": 4,
 "nbformat_minor": 0
}
