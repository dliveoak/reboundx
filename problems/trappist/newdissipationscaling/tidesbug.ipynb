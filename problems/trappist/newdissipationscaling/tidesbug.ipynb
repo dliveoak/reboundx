{
 "cells": [
  {
   "cell_type": "code",
   "execution_count": 11,
   "metadata": {
    "collapsed": true
   },
   "outputs": [],
   "source": [
    "import rebound\n",
    "import reboundx\n",
    "import numpy as np\n",
    "\n",
    "filename='data/mag1.0000e-02taue2.15e+02.bin'\n",
    "rebxfilename='data/mag1.0000e-02taue2.15e+02rebx.bin'\n",
    "sa = rebound.SimulationArchive(filename)"
   ]
  },
  {
   "cell_type": "code",
   "execution_count": 13,
   "metadata": {
    "collapsed": true
   },
   "outputs": [],
   "source": [
    "tnext = sa[101].t\n",
    "sim = sa[100]\n",
    "rebx = reboundx.Extras.from_file(sim, rebxfilename)"
   ]
  },
  {
   "cell_type": "code",
   "execution_count": 14,
   "metadata": {
    "collapsed": true
   },
   "outputs": [],
   "source": [
    "damping = rebx.get_effect(\"tides_synchronous_ecc_damping\")\n",
    "rebx.integrator=\"rk4\"\n",
    "damping.force_as_operator = 1\n",
    "damping.operator_order = 1"
   ]
  },
  {
   "cell_type": "code",
   "execution_count": 17,
   "metadata": {
    "collapsed": false
   },
   "outputs": [
    {
     "data": {
      "text/plain": [
       "-8246.541786090213"
      ]
     },
     "execution_count": 17,
     "metadata": {},
     "output_type": "execute_result"
    }
   ],
   "source": [
    "sim.particles[3].params[\"tides_synchronous_tau_e\"]"
   ]
  },
  {
   "cell_type": "code",
   "execution_count": 4,
   "metadata": {
    "collapsed": true
   },
   "outputs": [],
   "source": [
    "sim.integrate(tnext)"
   ]
  },
  {
   "cell_type": "code",
   "execution_count": 5,
   "metadata": {
    "collapsed": false
   },
   "outputs": [
    {
     "name": "stdout",
     "output_type": "stream",
     "text": [
      "---------------------------------\n",
      "REBOUND version:     \t3.2.3\n",
      "REBOUND built on:    \tMar  7 2017 21:51:15\n",
      "Number of particles: \t8\n",
      "Selected integrator: \twhfast\n",
      "Simulation time:     \t217597.903943\n",
      "Current timestep:    \t0.000291\n",
      "---------------------------------\n",
      "<rebound.Particle object, m=0.08 x=-1.6944813214424014e-06 y=2.047546640844418e-06 z=-5.756693101516823e-09 vx=-0.0013055441738748553 vy=-0.000311910181767888 vz=-3.785294509712625e-06>\n",
      "<rebound.Particle object, m=4.151838160147789e-06 x=-0.008921095620814173 y=-0.00663721621972236 z=-4.7736975939974083e-05 vx=10.058784770115254 vy=-13.524243808557745 vz=0.040535619381526326>\n",
      "<rebound.Particle object, m=2.5978149814924043e-06 x=0.010008719507885813 y=-0.011458791494309962 z=3.7065124981570664e-05 vx=10.866309366861106 vy=9.463440114805667 vz=0.00971124527262018>\n",
      "<rebound.Particle object, m=2.2555560091848006e-06 x=0.012610377984769269 y=-0.017271135703360946 z=8.873071760243938e-05 vx=9.694437647892366 vy=7.337663631935713 vz=0.027324195858043847>\n",
      "<rebound.Particle object, m=2.702703148169957e-06 x=0.02637201892258996 y=-0.01066557997794663 z=0.00011594935664144733 vx=4.105454192597996 vy=9.628597059529211 vz=-0.009032261477817178>\n",
      "<rebound.Particle object, m=1.9419454107251544e-06 x=0.02379047533755525 y=0.02760017412781174 z=0.00014505705891211757 vx=-7.015447878895275 vy=6.199774319999019 vz=-0.0011363874851771693>\n",
      "<rebound.Particle object, m=1.4836078250227998e-06 x=0.021075937512633564 y=-0.03989500488909533 z=-0.00010873667584934198 vx=7.371985769636881 vy=3.8726941551751852 vz=0.01434078828428423>\n",
      "<rebound.Particle object, m=7.709749274501146e-07 x=-0.03969774716490889 y=-0.043002490589436164 z=-9.258381228113995e-05 vx=5.417473404837779 vy=-4.980595116406458 vz=0.06875602973794616>\n",
      "---------------------------------\n"
     ]
    }
   ],
   "source": [
    "sim.status()"
   ]
  },
  {
   "cell_type": "code",
   "execution_count": 6,
   "metadata": {
    "collapsed": false
   },
   "outputs": [
    {
     "name": "stdout",
     "output_type": "stream",
     "text": [
      "---------------------------------\n",
      "REBOUND version:     \t3.2.3\n",
      "REBOUND built on:    \tMar  7 2017 21:51:15\n",
      "Number of particles: \t8\n",
      "Selected integrator: \twhfast\n",
      "Simulation time:     \t217597.903943\n",
      "Current timestep:    \t0.000291\n",
      "---------------------------------\n",
      "<rebound.Particle object, m=0.08 x=-1.6944813527214116e-06 y=2.0475466333714887e-06 z=-5.756693192207219e-09 vx=-0.0013055441856137013 vy=-0.0003119102133938347 vz=-3.7852945844738707e-06>\n",
      "<rebound.Particle object, m=4.151838160147789e-06 x=-0.00892109537981985 y=-0.0066372165437442706 z=-4.773697496879717e-05 vx=10.058785261057565 vy=-13.524243443131423 vz=0.040535622008745824>\n",
      "<rebound.Particle object, m=2.5978149814924043e-06 x=0.010008719768227006 y=-0.011458791267579257 z=3.70651252142408e-05 vx=10.86630915191826 vy=9.46344036087043 vz=0.009711244476997486>\n",
      "<rebound.Particle object, m=2.2555560091848006e-06 x=0.012610378217035104 y=-0.01727113552756073 z=8.873071825708795e-05 vx=9.694437550327486 vy=7.3376637655931605 vz=0.027324195171188836>\n",
      "<rebound.Particle object, m=2.702703148169957e-06 x=0.02637201902095076 y=-0.010665579747259017 z=0.00011594935642504673 vx=4.105454105910838 vy=9.628597094579506 vz=-0.009032261858941227>\n",
      "<rebound.Particle object, m=1.9419454107251544e-06 x=0.02379047516947496 y=0.02760017427634964 z=0.00014505705888489135 vx=-7.015447916108319 vy=6.199774276829617 vz=-0.00113638771207145>\n",
      "<rebound.Particle object, m=1.4836078250227998e-06 x=0.021075937689256016 y=-0.039895004796311036 z=-0.00010873667550575726 vx=7.3719857522736945 vy=3.8726941880458368 vz=0.014340788373906217>\n",
      "<rebound.Particle object, m=7.709749274501146e-07 x=-0.03969774703511382 y=-0.043002490708764225 z=-9.258381063384197e-05 vx=5.417473419825217 vy=-4.980595100171005 vz=0.06875602977289882>\n",
      "---------------------------------\n"
     ]
    }
   ],
   "source": [
    "sa[101].status()"
   ]
  },
  {
   "cell_type": "code",
   "execution_count": 2,
   "metadata": {
    "collapsed": true
   },
   "outputs": [],
   "source": [
    "tnext = sa[1].t"
   ]
  },
  {
   "cell_type": "code",
   "execution_count": 3,
   "metadata": {
    "collapsed": false
   },
   "outputs": [
    {
     "data": {
      "text/plain": [
       "2154.434971483127"
      ]
     },
     "execution_count": 3,
     "metadata": {},
     "output_type": "execute_result"
    }
   ],
   "source": [
    "tnext"
   ]
  },
  {
   "cell_type": "code",
   "execution_count": 18,
   "metadata": {
    "collapsed": true
   },
   "outputs": [],
   "source": [
    "starterfilename = 'data/startermag1.0000e-02'"
   ]
  },
  {
   "cell_type": "code",
   "execution_count": 21,
   "metadata": {
    "collapsed": false
   },
   "outputs": [],
   "source": [
    "sim = rebound.Simulation.from_file(starterfilename)\n",
    "\n",
    "rebx = reboundx.Extras.from_file(sim, rebxfilename)\n",
    "damping = rebx.get_effect(\"tides_synchronous_ecc_damping\")\n",
    "rebx.integrator=\"rk4\"\n",
    "damping.force_as_operator = 1\n",
    "damping.operator_order = 1"
   ]
  },
  {
   "cell_type": "code",
   "execution_count": 22,
   "metadata": {
    "collapsed": false
   },
   "outputs": [
    {
     "name": "stdout",
     "output_type": "stream",
     "text": [
      "-8.2465417860902126e+03\n"
     ]
    }
   ],
   "source": [
    "print(\"{0:.16e}\".format(sim.particles[3].params[\"tides_synchronous_tau_e\"]))"
   ]
  },
  {
   "cell_type": "code",
   "execution_count": null,
   "metadata": {
    "collapsed": true
   },
   "outputs": [],
   "source": [
    "sim.integrate(tnext)"
   ]
  },
  {
   "cell_type": "code",
   "execution_count": 6,
   "metadata": {
    "collapsed": false
   },
   "outputs": [
    {
     "name": "stdout",
     "output_type": "stream",
     "text": [
      "---------------------------------\n",
      "REBOUND version:     \t3.2.3\n",
      "REBOUND built on:    \tMar  7 2017 21:51:15\n",
      "Number of particles: \t8\n",
      "Selected integrator: \twhfast\n",
      "Simulation time:     \t2154.434971\n",
      "Current timestep:    \t0.000291\n",
      "---------------------------------\n",
      "<rebound.Particle object, m=0.08 x=-2.860358964914106e-06 y=-1.7270854064718951e-06 z=-1.3632996229718188e-08 vx=-0.00010405438748836147 vy=-0.0008067503774046102 vz=1.0726517588754827e-05>\n",
      "<rebound.Particle object, m=4.151838160147789e-06 x=-0.006720780023363002 y=-0.008873391578561875 z=-3.15952541780864e-05 vx=13.435069557308234 vy=-10.17005354043396 vz=-0.09083732716657109>\n",
      "<rebound.Particle object, m=2.5978149814924043e-06 x=0.015175849286849733 y=-0.0005379454363557461 z=0.00014399502851702715 vx=0.5373970675803514 vy=14.429922963365785 vz=-0.14009978409564122>\n",
      "<rebound.Particle object, m=2.2555560091848006e-06 x=0.020882270518321144 y=0.005826546275062063 z=3.143590734010595e-05 vx=-3.4796315851687525 vy=11.479216320548705 vz=0.004136826757333371>\n",
      "<rebound.Particle object, m=2.702703148169957e-06 x=0.013850712276878539 y=0.02469259761737407 z=2.710444247703503e-05 vx=-9.014764651391248 vy=5.421317276267249 vz=-0.04101592193074706>\n",
      "<rebound.Particle object, m=1.9419454107251544e-06 x=0.03571581788394826 y=0.008903842125973721 z=0.00037379310254117 vx=-2.45260016446946 vy=8.936921005167234 vz=0.016457380343976813>\n",
      "<rebound.Particle object, m=1.4836078250227998e-06 x=0.03879356970807397 y=0.023220587949600184 z=8.895051127821385e-05 vx=-4.2223175044033985 vy=7.154001607974695 vz=-0.036373410887364586>\n",
      "<rebound.Particle object, m=7.709749274501146e-07 x=0.0076010280149022835 y=0.05808916157298813 z=-0.0002000955069699656 vx=-7.279258726214814 vy=0.9925152801267951 vz=0.008432637237721691>\n",
      "---------------------------------\n"
     ]
    }
   ],
   "source": [
    "sim.status()"
   ]
  },
  {
   "cell_type": "code",
   "execution_count": 7,
   "metadata": {
    "collapsed": false
   },
   "outputs": [
    {
     "name": "stdout",
     "output_type": "stream",
     "text": [
      "---------------------------------\n",
      "REBOUND version:     \t3.2.3\n",
      "REBOUND built on:    \tMar  7 2017 21:51:15\n",
      "Number of particles: \t8\n",
      "Selected integrator: \twhfast\n",
      "Simulation time:     \t2154.434971\n",
      "Current timestep:    \t0.000291\n",
      "---------------------------------\n",
      "<rebound.Particle object, m=0.08 x=-2.8603589649465436e-06 y=-1.7270854067233887e-06 z=-1.363299622637437e-08 vx=-0.00010405438749665601 vy=-0.0008067503776747921 vz=1.0726517589210341e-05>\n",
      "<rebound.Particle object, m=4.151838160147789e-06 x=-0.006720780019174824 y=-0.008873391581732235 z=-3.159525420640352e-05 vx=13.435069562107767 vy=-10.170053534095786 vz=-0.09083732714400791>\n",
      "<rebound.Particle object, m=2.5978149814924043e-06 x=0.015175849287017264 y=-0.0005379454318574335 z=0.0001439950284733532 vx=0.5373970633158105 vy=14.429922963516779 vz=-0.1400997841361089>\n",
      "<rebound.Particle object, m=2.2555560091848006e-06 x=0.020882270517236415 y=0.005826546278640527 z=3.143590734139564e-05 vx=-3.47963158718599 vy=11.47921631998561 vz=0.004136826754304287>\n",
      "<rebound.Particle object, m=2.702703148169957e-06 x=0.013850712274068325 y=0.02469259761906408 z=2.7104442464248945e-05 vx=-9.014764651992017 vy=5.421317275196097 vz=-0.041015921931922536>\n",
      "<rebound.Particle object, m=1.9419454107251544e-06 x=0.0357158178831837 y=0.008903842128759672 z=0.00037379310254630026 vx=-2.4526001651745184 vy=8.936921004991554 vz=0.01645738033659459>\n",
      "<rebound.Particle object, m=1.4836078250227998e-06 x=0.03879356970675773 y=0.023220587951830338 z=8.895051126687503e-05 vx=-4.222317504816747 vy=7.154001607727201 vz=-0.036373410888310184>\n",
      "<rebound.Particle object, m=7.709749274501146e-07 x=0.0076010280126330865 y=0.05808916157329753 z=-0.00020009550696733683 vx=-7.279258726252026 vy=0.9925152798423156 vz=0.008432637238701721>\n",
      "---------------------------------\n"
     ]
    }
   ],
   "source": [
    "sa[1].status()"
   ]
  },
  {
   "cell_type": "code",
   "execution_count": 6,
   "metadata": {
    "collapsed": true
   },
   "outputs": [],
   "source": [
    "tnext = sa[1].t"
   ]
  },
  {
   "cell_type": "code",
   "execution_count": 7,
   "metadata": {
    "collapsed": false
   },
   "outputs": [
    {
     "name": "stdout",
     "output_type": "stream",
     "text": [
      "215.443469003\n"
     ]
    }
   ],
   "source": [
    "taues = np.logspace(1,3,7)\n",
    "taue = taues[4]\n",
    "print(taue)"
   ]
  },
  {
   "cell_type": "code",
   "execution_count": 8,
   "metadata": {
    "collapsed": false
   },
   "outputs": [
    {
     "name": "stdout",
     "output_type": "stream",
     "text": [
      "CPU times: user 44.4 s, sys: 3.81 s, total: 48.3 s\n",
      "Wall time: 48.3 s\n"
     ]
    }
   ],
   "source": [
    "%%time\n",
    "starterfilename = 'data/startermag1.0000e-02'\n",
    "sim = rebound.Simulation.from_file(starterfilename)\n",
    "\n",
    "rebx = reboundx.Extras(sim)\n",
    "damping = rebx.add(\"tides_synchronous_ecc_damping\")\n",
    "\n",
    "ps = sim.particles\n",
    "aref = ps[1].a\n",
    "mref = ps[1].m\n",
    "for p in ps[1:]:\n",
    "    p.params[\"tides_synchronous_tau_e\"] = -taue*(p.m/mref)*(p.a/aref)**6.5\n",
    "\n",
    "rebx.integrator=\"rk4\"\n",
    "damping.force_as_operator = 1\n",
    "damping.operator_order = 1\n",
    "\n",
    "sim.integrate(tnext)"
   ]
  },
  {
   "cell_type": "code",
   "execution_count": 9,
   "metadata": {
    "collapsed": false
   },
   "outputs": [
    {
     "data": {
      "text/plain": [
       "-8246.5417860902126"
      ]
     },
     "execution_count": 9,
     "metadata": {},
     "output_type": "execute_result"
    }
   ],
   "source": [
    "sim.particles[3].params[\"tides_synchronous_tau_e\"]"
   ]
  },
  {
   "cell_type": "code",
   "execution_count": 10,
   "metadata": {
    "collapsed": false
   },
   "outputs": [
    {
     "name": "stdout",
     "output_type": "stream",
     "text": [
      "---------------------------------\n",
      "REBOUND version:     \t3.2.3\n",
      "REBOUND built on:    \tMar  7 2017 21:51:15\n",
      "Number of particles: \t8\n",
      "Selected integrator: \twhfast\n",
      "Simulation time:     \t2154.434971\n",
      "Current timestep:    \t0.000291\n",
      "---------------------------------\n",
      "<rebound.Particle object, m=0.08 x=-2.860358964914106e-06 y=-1.7270854064718951e-06 z=-1.3632996229718188e-08 vx=-0.00010405438748836147 vy=-0.0008067503774046102 vz=1.0726517588754827e-05>\n",
      "<rebound.Particle object, m=4.151838160147789e-06 x=-0.006720780023363002 y=-0.008873391578561875 z=-3.15952541780864e-05 vx=13.435069557308234 vy=-10.17005354043396 vz=-0.09083732716657109>\n",
      "<rebound.Particle object, m=2.5978149814924043e-06 x=0.015175849286849733 y=-0.0005379454363557461 z=0.00014399502851702715 vx=0.5373970675803514 vy=14.429922963365785 vz=-0.14009978409564122>\n",
      "<rebound.Particle object, m=2.2555560091848006e-06 x=0.020882270518321144 y=0.005826546275062063 z=3.143590734010595e-05 vx=-3.4796315851687525 vy=11.479216320548705 vz=0.004136826757333371>\n",
      "<rebound.Particle object, m=2.702703148169957e-06 x=0.013850712276878539 y=0.02469259761737407 z=2.710444247703503e-05 vx=-9.014764651391248 vy=5.421317276267249 vz=-0.04101592193074706>\n",
      "<rebound.Particle object, m=1.9419454107251544e-06 x=0.03571581788394826 y=0.008903842125973721 z=0.00037379310254117 vx=-2.45260016446946 vy=8.936921005167234 vz=0.016457380343976813>\n",
      "<rebound.Particle object, m=1.4836078250227998e-06 x=0.03879356970807397 y=0.023220587949600184 z=8.895051127821385e-05 vx=-4.2223175044033985 vy=7.154001607974695 vz=-0.036373410887364586>\n",
      "<rebound.Particle object, m=7.709749274501146e-07 x=0.0076010280149022835 y=0.05808916157298813 z=-0.0002000955069699656 vx=-7.279258726214814 vy=0.9925152801267951 vz=0.008432637237721691>\n",
      "---------------------------------\n"
     ]
    }
   ],
   "source": [
    "sim.status()"
   ]
  },
  {
   "cell_type": "code",
   "execution_count": 12,
   "metadata": {
    "collapsed": false
   },
   "outputs": [
    {
     "name": "stdout",
     "output_type": "stream",
     "text": [
      "---------------------------------\n",
      "REBOUND version:     \t3.2.3\n",
      "REBOUND built on:    \tMar  7 2017 21:51:15\n",
      "Number of particles: \t8\n",
      "Selected integrator: \twhfast\n",
      "Simulation time:     \t2154.434971\n",
      "Current timestep:    \t0.000291\n",
      "---------------------------------\n",
      "<rebound.Particle object, m=0.08 x=-2.8603589649465436e-06 y=-1.7270854067233887e-06 z=-1.363299622637437e-08 vx=-0.00010405438749665601 vy=-0.0008067503776747921 vz=1.0726517589210341e-05>\n",
      "<rebound.Particle object, m=4.151838160147789e-06 x=-0.006720780019174824 y=-0.008873391581732235 z=-3.159525420640352e-05 vx=13.435069562107767 vy=-10.170053534095786 vz=-0.09083732714400791>\n",
      "<rebound.Particle object, m=2.5978149814924043e-06 x=0.015175849287017264 y=-0.0005379454318574335 z=0.0001439950284733532 vx=0.5373970633158105 vy=14.429922963516779 vz=-0.1400997841361089>\n",
      "<rebound.Particle object, m=2.2555560091848006e-06 x=0.020882270517236415 y=0.005826546278640527 z=3.143590734139564e-05 vx=-3.47963158718599 vy=11.47921631998561 vz=0.004136826754304287>\n",
      "<rebound.Particle object, m=2.702703148169957e-06 x=0.013850712274068325 y=0.02469259761906408 z=2.7104442464248945e-05 vx=-9.014764651992017 vy=5.421317275196097 vz=-0.041015921931922536>\n",
      "<rebound.Particle object, m=1.9419454107251544e-06 x=0.0357158178831837 y=0.008903842128759672 z=0.00037379310254630026 vx=-2.4526001651745184 vy=8.936921004991554 vz=0.01645738033659459>\n",
      "<rebound.Particle object, m=1.4836078250227998e-06 x=0.03879356970675773 y=0.023220587951830338 z=8.895051126687503e-05 vx=-4.222317504816747 vy=7.154001607727201 vz=-0.036373410888310184>\n",
      "<rebound.Particle object, m=7.709749274501146e-07 x=0.0076010280126330865 y=0.05808916157329753 z=-0.00020009550696733683 vx=-7.279258726252026 vy=0.9925152798423156 vz=0.008432637238701721>\n",
      "---------------------------------\n"
     ]
    }
   ],
   "source": [
    "sa[1].status()"
   ]
  },
  {
   "cell_type": "code",
   "execution_count": 23,
   "metadata": {
    "collapsed": false
   },
   "outputs": [
    {
     "name": "stdout",
     "output_type": "stream",
     "text": [
      "-8.2465417860902126e+03\n"
     ]
    }
   ],
   "source": [
    "starterfilename = 'data/startermag1.0000e-02'\n",
    "sim = rebound.Simulation.from_file(starterfilename)\n",
    "\n",
    "rebx = reboundx.Extras(sim)\n",
    "damping = rebx.add(\"tides_synchronous_ecc_damping\")\n",
    "\n",
    "ps = sim.particles\n",
    "aref = ps[1].a\n",
    "mref = ps[1].m\n",
    "for p in ps[1:]:\n",
    "    p.params[\"tides_synchronous_tau_e\"] = -taue*(p.m/mref)*(p.a/aref)**6.5\n",
    "\n",
    "rebx.integrator=\"rk4\"\n",
    "damping.force_as_operator = 1\n",
    "damping.operator_order = 1\n",
    "\n",
    "print(\"{0:.16e}\".format(sim.particles[3].params[\"tides_synchronous_tau_e\"]))"
   ]
  },
  {
   "cell_type": "code",
   "execution_count": null,
   "metadata": {
    "collapsed": true
   },
   "outputs": [],
   "source": [
    "-8.2465417860902126e+03"
   ]
  },
  {
   "cell_type": "code",
   "execution_count": 24,
   "metadata": {
    "collapsed": false
   },
   "outputs": [
    {
     "data": {
      "text/plain": [
       "2154.434971483127"
      ]
     },
     "execution_count": 24,
     "metadata": {},
     "output_type": "execute_result"
    }
   ],
   "source": [
    "tnext"
   ]
  },
  {
   "cell_type": "code",
   "execution_count": 25,
   "metadata": {
    "collapsed": true
   },
   "outputs": [],
   "source": [
    "starterfilename = 'data/startermag1.0000e-02'\n",
    "sim = rebound.Simulation.from_file(starterfilename)\n",
    "\n",
    "rebx = reboundx.Extras(sim)\n",
    "damping = rebx.add(\"tides_synchronous_ecc_damping\")\n",
    "\n",
    "ps = sim.particles\n",
    "aref = ps[1].a\n",
    "mref = ps[1].m\n",
    "for p in ps[1:]:\n",
    "    p.params[\"tides_synchronous_tau_e\"] = -taue*(p.m/mref)*(p.a/aref)**6.5\n",
    "\n",
    "rebx.integrator=\"rk4\"\n",
    "damping.force_as_operator = 1\n",
    "damping.operator_order = 1\n",
    "\n",
    "sim.initSimulationArchive('test.bin', interval = tnext)"
   ]
  },
  {
   "cell_type": "code",
   "execution_count": 26,
   "metadata": {
    "collapsed": true
   },
   "outputs": [],
   "source": [
    "sim.integrate(tnext)"
   ]
  },
  {
   "cell_type": "code",
   "execution_count": 27,
   "metadata": {
    "collapsed": false
   },
   "outputs": [
    {
     "name": "stdout",
     "output_type": "stream",
     "text": [
      "---------------------------------\n",
      "REBOUND version:     \t3.2.3\n",
      "REBOUND built on:    \tMar  7 2017 21:51:15\n",
      "Number of particles: \t8\n",
      "Selected integrator: \twhfast\n",
      "Simulation time:     \t2154.434971\n",
      "Current timestep:    \t0.000291\n",
      "---------------------------------\n",
      "<rebound.Particle object, m=0.08 x=-2.860358964914106e-06 y=-1.7270854064718951e-06 z=-1.3632996229718188e-08 vx=-0.00010405438748836147 vy=-0.0008067503774046102 vz=1.0726517588754827e-05>\n",
      "<rebound.Particle object, m=4.151838160147789e-06 x=-0.006720780023363002 y=-0.008873391578561875 z=-3.15952541780864e-05 vx=13.435069557308234 vy=-10.17005354043396 vz=-0.09083732716657109>\n",
      "<rebound.Particle object, m=2.5978149814924043e-06 x=0.015175849286849733 y=-0.0005379454363557461 z=0.00014399502851702715 vx=0.5373970675803514 vy=14.429922963365785 vz=-0.14009978409564122>\n",
      "<rebound.Particle object, m=2.2555560091848006e-06 x=0.020882270518321144 y=0.005826546275062063 z=3.143590734010595e-05 vx=-3.4796315851687525 vy=11.479216320548705 vz=0.004136826757333371>\n",
      "<rebound.Particle object, m=2.702703148169957e-06 x=0.013850712276878539 y=0.02469259761737407 z=2.710444247703503e-05 vx=-9.014764651391248 vy=5.421317276267249 vz=-0.04101592193074706>\n",
      "<rebound.Particle object, m=1.9419454107251544e-06 x=0.03571581788394826 y=0.008903842125973721 z=0.00037379310254117 vx=-2.45260016446946 vy=8.936921005167234 vz=0.016457380343976813>\n",
      "<rebound.Particle object, m=1.4836078250227998e-06 x=0.03879356970807397 y=0.023220587949600184 z=8.895051127821385e-05 vx=-4.2223175044033985 vy=7.154001607974695 vz=-0.036373410887364586>\n",
      "<rebound.Particle object, m=7.709749274501146e-07 x=0.0076010280149022835 y=0.05808916157298813 z=-0.0002000955069699656 vx=-7.279258726214814 vy=0.9925152801267951 vz=0.008432637237721691>\n",
      "---------------------------------\n"
     ]
    }
   ],
   "source": [
    "sim.status()"
   ]
  },
  {
   "cell_type": "code",
   "execution_count": 30,
   "metadata": {
    "collapsed": true
   },
   "outputs": [],
   "source": [
    "rebx.save(\"testrebx.bin\")"
   ]
  },
  {
   "cell_type": "code",
   "execution_count": 31,
   "metadata": {
    "collapsed": true
   },
   "outputs": [],
   "source": [
    "sa = rebound.SimulationArchive('test.bin')"
   ]
  },
  {
   "cell_type": "code",
   "execution_count": 34,
   "metadata": {
    "collapsed": false
   },
   "outputs": [],
   "source": [
    "tnext = sa[-1].t\n",
    "sim = sa[0]\n",
    "rebx = reboundx.Extras.from_file(sim, 'testrebx.bin')"
   ]
  },
  {
   "cell_type": "code",
   "execution_count": 35,
   "metadata": {
    "collapsed": true
   },
   "outputs": [],
   "source": [
    "damping = rebx.get_effect(\"tides_synchronous_ecc_damping\")\n",
    "rebx.integrator=\"rk4\"\n",
    "damping.force_as_operator = 1\n",
    "damping.operator_order = 1"
   ]
  },
  {
   "cell_type": "code",
   "execution_count": 36,
   "metadata": {
    "collapsed": false
   },
   "outputs": [
    {
     "name": "stdout",
     "output_type": "stream",
     "text": [
      "CPU times: user 48.4 s, sys: 16.1 s, total: 1min 4s\n",
      "Wall time: 2min 46s\n"
     ]
    }
   ],
   "source": [
    "%%time\n",
    "sim.integrate(tnext)"
   ]
  },
  {
   "cell_type": "code",
   "execution_count": 38,
   "metadata": {
    "collapsed": false
   },
   "outputs": [
    {
     "name": "stdout",
     "output_type": "stream",
     "text": [
      "---------------------------------\n",
      "REBOUND version:     \t3.2.3\n",
      "REBOUND built on:    \tMar  7 2017 21:51:15\n",
      "Number of particles: \t8\n",
      "Selected integrator: \twhfast\n",
      "Simulation time:     \t2154.434971\n",
      "Current timestep:    \t0.000291\n",
      "---------------------------------\n",
      "<rebound.Particle object, m=0.08 x=-2.860358964914106e-06 y=-1.7270854064718951e-06 z=-1.3632996229718188e-08 vx=-0.00010405438748836147 vy=-0.0008067503774046102 vz=1.0726517588754827e-05>\n",
      "<rebound.Particle object, m=4.151838160147789e-06 x=-0.006720780023363002 y=-0.008873391578561875 z=-3.15952541780864e-05 vx=13.435069557308234 vy=-10.17005354043396 vz=-0.09083732716657109>\n",
      "<rebound.Particle object, m=2.5978149814924043e-06 x=0.015175849286849733 y=-0.0005379454363557461 z=0.00014399502851702715 vx=0.5373970675803514 vy=14.429922963365785 vz=-0.14009978409564122>\n",
      "<rebound.Particle object, m=2.2555560091848006e-06 x=0.020882270518321144 y=0.005826546275062063 z=3.143590734010595e-05 vx=-3.4796315851687525 vy=11.479216320548705 vz=0.004136826757333371>\n",
      "<rebound.Particle object, m=2.702703148169957e-06 x=0.013850712276878539 y=0.02469259761737407 z=2.710444247703503e-05 vx=-9.014764651391248 vy=5.421317276267249 vz=-0.04101592193074706>\n",
      "<rebound.Particle object, m=1.9419454107251544e-06 x=0.03571581788394826 y=0.008903842125973721 z=0.00037379310254117 vx=-2.45260016446946 vy=8.936921005167234 vz=0.016457380343976813>\n",
      "<rebound.Particle object, m=1.4836078250227998e-06 x=0.03879356970807397 y=0.023220587949600184 z=8.895051127821385e-05 vx=-4.2223175044033985 vy=7.154001607974695 vz=-0.036373410887364586>\n",
      "<rebound.Particle object, m=7.709749274501146e-07 x=0.0076010280149022835 y=0.05808916157298813 z=-0.0002000955069699656 vx=-7.279258726214814 vy=0.9925152801267951 vz=0.008432637237721691>\n",
      "---------------------------------\n"
     ]
    }
   ],
   "source": [
    "sim.status()"
   ]
  },
  {
   "cell_type": "code",
   "execution_count": 40,
   "metadata": {
    "collapsed": false
   },
   "outputs": [
    {
     "name": "stdout",
     "output_type": "stream",
     "text": [
      "---------------------------------\n",
      "REBOUND version:     \t3.2.3\n",
      "REBOUND built on:    \tMar  7 2017 21:51:15\n",
      "Number of particles: \t8\n",
      "Selected integrator: \twhfast\n",
      "Simulation time:     \t2154.434971\n",
      "Current timestep:    \t0.000291\n",
      "---------------------------------\n",
      "<rebound.Particle object, m=0.08 x=-2.860358964914106e-06 y=-1.7270854064718951e-06 z=-1.3632996229718188e-08 vx=-0.00010405438748836147 vy=-0.0008067503774046102 vz=1.0726517588754827e-05>\n",
      "<rebound.Particle object, m=4.151838160147789e-06 x=-0.006720780023363002 y=-0.008873391578561875 z=-3.15952541780864e-05 vx=13.435069557308234 vy=-10.17005354043396 vz=-0.09083732716657109>\n",
      "<rebound.Particle object, m=2.5978149814924043e-06 x=0.015175849286849733 y=-0.0005379454363557461 z=0.00014399502851702715 vx=0.5373970675803514 vy=14.429922963365785 vz=-0.14009978409564122>\n",
      "<rebound.Particle object, m=2.2555560091848006e-06 x=0.020882270518321144 y=0.005826546275062063 z=3.143590734010595e-05 vx=-3.4796315851687525 vy=11.479216320548705 vz=0.004136826757333371>\n",
      "<rebound.Particle object, m=2.702703148169957e-06 x=0.013850712276878539 y=0.02469259761737407 z=2.710444247703503e-05 vx=-9.014764651391248 vy=5.421317276267249 vz=-0.04101592193074706>\n",
      "<rebound.Particle object, m=1.9419454107251544e-06 x=0.03571581788394826 y=0.008903842125973721 z=0.00037379310254117 vx=-2.45260016446946 vy=8.936921005167234 vz=0.016457380343976813>\n",
      "<rebound.Particle object, m=1.4836078250227998e-06 x=0.03879356970807397 y=0.023220587949600184 z=8.895051127821385e-05 vx=-4.2223175044033985 vy=7.154001607974695 vz=-0.036373410887364586>\n",
      "<rebound.Particle object, m=7.709749274501146e-07 x=0.0076010280149022835 y=0.05808916157298813 z=-0.0002000955069699656 vx=-7.279258726214814 vy=0.9925152801267951 vz=0.008432637237721691>\n",
      "---------------------------------\n"
     ]
    }
   ],
   "source": [
    "sa[-1].status()"
   ]
  },
  {
   "cell_type": "code",
   "execution_count": null,
   "metadata": {
    "collapsed": true
   },
   "outputs": [],
   "source": []
  }
 ],
 "metadata": {
  "kernelspec": {
   "display_name": "Python 3",
   "language": "python",
   "name": "python3"
  },
  "language_info": {
   "codemirror_mode": {
    "name": "ipython",
    "version": 3
   },
   "file_extension": ".py",
   "mimetype": "text/x-python",
   "name": "python",
   "nbconvert_exporter": "python",
   "pygments_lexer": "ipython3",
   "version": "3.4.3"
  }
 },
 "nbformat": 4,
 "nbformat_minor": 0
}
