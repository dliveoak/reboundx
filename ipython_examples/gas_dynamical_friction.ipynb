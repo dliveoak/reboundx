{
 "cells": [
  {
   "cell_type": "markdown",
   "metadata": {},
   "source": [
    "# Gas Dynamical Friction"
   ]
  },
  {
   "cell_type": "markdown",
   "metadata": {},
   "source": [
    "(This effect was used in Generozov&Perets 2022 [https://arxiv.org/abs/2212.11301].)\n",
    "\n",
    "This effect can be used to model stars passing through thin disk around a massive black hole (that is particle 0). (This effect can also be used to model other systems, e.g. planets passing through a gas disc around a star).\n",
    "\n",
    "We include two sources of a gas drag.\n",
    "\n",
    "One is the dissipative force due to gas dynamical friction (GDF). We use the prescription in Ostriker 1999 [https://ui.adsabs.harvard.edu/abs/1999ApJ...513..252O/abstract] to model this force, viz.\n",
    "\n",
    "\\begin{align}\n",
    "    \\mathbf{f_{\\rm drag}}=\\mathbf{f_{\\rm gdf}}=-\\frac{4 \\pi G^2 m_* \\rho_g}{v_{\\rm rel}^3} I({v_{\\rm rel}/c_s}) \\mathbf{v_{\\rm rel}},\n",
    "    \\label{eq:fgdf}\n",
    "\\end{align}\n",
    "where $\\rho_g$ is the gas density, $m_*$ is the stellar mass, and $v_{\\rm rel}$ is the relative velocity between the star and the disc. The function $I$ is\n",
    "\n",
    "\\begin{align}\n",
    "    I(\\mathcal M)=\n",
    "    \\begin{cases}\n",
    "        \\ln(\\Lambda) & \\mathcal M\\geq 1\\\\\n",
    "        \\min\\left[\\ln \\Lambda, \\frac{1}{2}\\log\\left(\\frac{1+\\mathcal M}{1-\\mathcal M}\\right)-\\mathcal M\\right] & \\mathcal M<1.\n",
    "    \\end{cases}\n",
    "    \\label{eq:Ib}\n",
    "\\end{align}\n",
    "\n",
    "The Coulomb logarithm $ln(\\Lambda)$ is constrolled by the parameter gas_df_xmin (gas_df_xmin = 1/$\\Lambda$). For improved numerical stability we use \n",
    "\n",
    "\\begin{align}\n",
    "\\frac{1}{2}\\log\\left(\\frac{1+\\mathcal M}{1-\\mathcal M}\\right)-\\mathcal M \\approx \\mathcal M^3/3 + \\mathcal M^5/5\n",
    "\\end{align}\n",
    "\n",
    "for $\\mathcal M<0.02$.\n",
    "\n",
    "the disc gas density is \n",
    "\n",
    "\\begin{align}\n",
    "    \\rho_g(r, z)= \\rho_o\n",
    "    \\begin{cases}\n",
    "        \\left(\\frac{r}{r_o}\\right)^{-\\gamma} \\exp\\left(-z^2/(2 h^2)\\right) & z < 10 h\\\\\n",
    "        0                                                                  & z \\geq 10 h\n",
    "    \\end{cases}\n",
    "    \\label{eq:discDens}\n",
    "\\end{align}\n",
    "\n",
    "where $r$ is the cylindrical radius. The power law index (gamma) of the density profile is specified by the user (via gas_df_alpha_rhog). The density normalization ($\\rho_o/r_o^\\gamma$) is specified by gas_df_rhog. The disc has a constant aspect ratio h/r that is specified by the user (gas_df_hr). \n",
    "\n",
    "We assume the azimuthal velocity of the gas is\n",
    "\n",
    "\\begin{align}\n",
    "    v_{\\phi}(r)=\\left(1-\\left(\\frac{h}{r}\\right)^2 \\right) v_{\\rm c}(r).\n",
    "\\end{align}\n",
    "(see Armitage 2010, Astrophysics of Planet Formation, Cambridge University Press; we neglect a factor of order unity in front of the second term in parentheses). The sound speed in the disc is given by \n",
    "\n",
    "\\begin{align}\n",
    "    c_s(r)=c_{s,o} \\left(\\frac{r}{r_o}\\right)^{\\alpha}.\n",
    "\\end{align}\n",
    "\n",
    "Above $\\alpha$ is controlled by gas_df_alpha_cs. The normalization ($c_{s,o}/r_o^\\alpha$) is controlled by gas_df_cs. \n",
    "\n",
    "Our implementation also includes geometric drag (see Just et al 2012, [https://ui.adsabs.harvard.edu/abs/2012ApJ...758...51J/abstract])\n",
    "\n",
    "\\begin{equation}\n",
    "f_{\\rm geo}= \\left(\\frac{v_{\\rm rel}}{v_{\\rm esc}}\\right)^4 \\frac{Q_d}{I} f_{\\rm gdf}\n",
    "\\end{equation}\n",
    "Above $v_{esc} = \\sqrt{2 G m_*/r_*}$ is the escape speed from the star (with radius $r_*$). $Q_d$ is controlled by gas_df_Qd. "
   ]
  },
  {
   "cell_type": "code",
   "execution_count": 2,
   "metadata": {
    "scrolled": true
   },
   "outputs": [],
   "source": [
    "import rebound\n",
    "import numpy as np\n",
    "import matplotlib.pyplot as plt\n",
    "%matplotlib inline\n",
    "\n",
    "sim = rebound.Simulation()\n",
    "sim.add(m=4e6, hash=\"bh\") # SMBH\n",
    "sim.add(m=1., a=206000, e=0.01, inc=0.17, hash=\"star\")\n",
    "sim.move_to_com()\n",
    "sim.integrator = \"BS\"\n",
    "\n",
    "import reboundx\n",
    "rebx = reboundx.Extras(sim)\n",
    "gdf = rebx.load_force(\"gas_dynamical_friction\")\n",
    "rebx.add_force(gdf)\n",
    "\n",
    "gdf.params[\"gas_df_rhog\"] = 0.2\n",
    "gdf.params[\"gas_df_alpha_rhog\"] = -1.5\n",
    "gdf.params[\"gas_df_cs\"] = 20\n",
    "gdf.params[\"gas_df_alpha_cs\"] = -0.5\n",
    "gdf.params[\"gas_df_xmin\"] = 0.045\n",
    "gdf.params[\"gas_df_hr\"] = 0.01\n",
    "gdf.params[\"gas_df_Qd\"] = 5.0\n",
    "\n",
    "delta_t = 6.28e5\n",
    "orb_data = np.zeros((100, 4))\n",
    "for ii in range(100):\n",
    "    sim.integrate(sim.t + delta_t)\n",
    "    orb = sim.particles[1].orbit(primary = sim.particles[0])\n",
    "    orb_data[ii] = (sim.t, orb.a, orb.e, orb.inc)"
   ]
  },
  {
   "cell_type": "code",
   "execution_count": 3,
   "metadata": {},
   "outputs": [
    {
     "data": {
      "text/plain": [
       "[<matplotlib.lines.Line2D at 0x103c10cd0>]"
      ]
     },
     "execution_count": 3,
     "metadata": {},
     "output_type": "execute_result"
    },
    {
     "data": {
      "image/png": "[encoded data removed]",
      "text/plain": [
       "<Figure size 640x480 with 1 Axes>"
      ]
     },
     "metadata": {},
     "output_type": "display_data"
    }
   ],
   "source": [
    "fig,ax = plt.subplots()\n",
    "ax.set_ylabel('i [deg]')\n",
    "ax.set_xlabel('t')\n",
    "ax.plot(orb_data[:,0], orb_data[:,3] * 180. / np.pi)"
   ]
  },
  {
   "cell_type": "code",
   "execution_count": null,
   "metadata": {},
   "outputs": [],
   "source": []
  }
 ],
 "metadata": {
  "kernelspec": {
   "display_name": "Python 3 (ipykernel)",
   "language": "python",
   "name": "python3"
  },
  "language_info": {
   "codemirror_mode": {
    "name": "ipython",
    "version": 3
   },
   "file_extension": ".py",
   "mimetype": "text/x-python",
   "name": "python",
   "nbconvert_exporter": "python",
   "pygments_lexer": "ipython3",
   "version": "3.9.6"
  }
 },
 "nbformat": 4,
 "nbformat_minor": 4
}
