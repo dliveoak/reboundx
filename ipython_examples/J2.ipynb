{
 "cells": [
  {
   "cell_type": "markdown",
   "metadata": {},
   "source": [
    "# Adding a J2"
   ]
  },
  {
   "cell_type": "code",
   "execution_count": 1,
   "metadata": {
    "collapsed": false
   },
   "outputs": [
    {
     "name": "stdout",
     "output_type": "stream",
     "text": [
      "pomega = 0.0000000000000000\n"
     ]
    }
   ],
   "source": [
    "import rebound\n",
    "sim = rebound.Simulation()\n",
    "sim.add(m=1., hash=\"star\") # Sun\n",
    "sim.add(m=1.e-5,a=1,e=1.e-2, hash=\"planet\")\n",
    "sim.move_to_com()\n",
    "ps = sim.particles\n",
    "\n",
    "sim.integrate(1.)\n",
    "print(\"pomega = %.16f\"%sim.particles[1].pomega)"
   ]
  },
  {
   "cell_type": "markdown",
   "metadata": {},
   "source": [
    "As expected, the pericenter did not move at all.  Now let's add a J2 and J4"
   ]
  },
  {
   "cell_type": "code",
   "execution_count": 2,
   "metadata": {
    "collapsed": false
   },
   "outputs": [
    {
     "data": {
      "text/plain": [
       "<reboundx.extras.Effect at 0x107d70048>"
      ]
     },
     "execution_count": 2,
     "metadata": {},
     "output_type": "execute_result"
    }
   ],
   "source": [
    "import reboundx\n",
    "rebx = reboundx.Extras(sim)\n",
    "rebx.add(\"gravitational_harmonics\")"
   ]
  },
  {
   "cell_type": "code",
   "execution_count": 3,
   "metadata": {
    "collapsed": false
   },
   "outputs": [],
   "source": [
    "ps[\"star\"].params[\"J2\"] = 0.1\n",
    "ps[\"star\"].params[\"J4\"] = 0.2\n",
    "ps[\"star\"].params[\"R_eq\"] = 1/200."
   ]
  },
  {
   "cell_type": "markdown",
   "metadata": {},
   "source": [
    "Now we integrate as normal:"
   ]
  },
  {
   "cell_type": "code",
   "execution_count": 5,
   "metadata": {
    "collapsed": false
   },
   "outputs": [
    {
     "name": "stdout",
     "output_type": "stream",
     "text": [
      "pomega = 0.037037080330987265\n",
      "Relative energy error = 3.3881231820970424e-16\n"
     ]
    }
   ],
   "source": [
    "import numpy as np\n",
    "tmax = 1.e4\n",
    "Nout = 1000\n",
    "times = np.logspace(0, np.log10(tmax), Nout)\n",
    "pomegas = np.zeros(Nout)\n",
    "Eerr = np.zeros(Nout)\n",
    "E0 = sim.calculate_energy() + rebx.gravitational_harmonics_hamiltonian(sim)\n",
    "\n",
    "for i, time in enumerate(times):\n",
    "    sim.integrate(time)\n",
    "    Ef = sim.calculate_energy() + rebx.gravitational_harmonics_hamiltonian(sim)\n",
    "    pomegas[i] = ps[\"planet\"].pomega\n",
    "    Eerr[i] = abs(Ef-E0)/abs(E0)\n",
    "print(\"pomega = {0}\".format(ps[1].pomega))\n",
    "print(\"Relative energy error = {0}\".format(Eerr[-1]))"
   ]
  },
  {
   "cell_type": "markdown",
   "metadata": {},
   "source": [
    "Let's test that the precession rate matches the predicted rate:"
   ]
  },
  {
   "cell_type": "code",
   "execution_count": 6,
   "metadata": {
    "collapsed": false
   },
   "outputs": [
    {
     "data": {
      "text/plain": [
       "[<matplotlib.lines.Line2D at 0x109ea7630>]"
      ]
     },
     "execution_count": 6,
     "metadata": {},
     "output_type": "execute_result"
    },
    {
     "data": {
      "image/png": "[encoded data removed]",
      "text/plain": [
       "<matplotlib.figure.Figure at 0x109d7c080>"
      ]
     },
     "metadata": {},
     "output_type": "display_data"
    }
   ],
   "source": [
    "%matplotlib inline\n",
    "import matplotlib.pyplot as plt\n",
    "predrate = ps[\"planet\"].n*(1.5*ps[\"star\"].params[\"J2\"]*(ps[\"star\"].params[\"R_eq\"]/ps[\"planet\"].a)**2 - 15/4*ps[\"star\"].params[\"J4\"]*(ps[\"star\"].params[\"R_eq\"]/ps[\"planet\"].a)**4)\n",
    "predpomega = [predrate*time for time in times]\n",
    "\n",
    "fig, ax = plt.subplots()\n",
    "ax.plot(times, pomegas)\n",
    "ax.plot(times, predpomega)"
   ]
  },
  {
   "cell_type": "markdown",
   "metadata": {},
   "source": [
    "and check that the energy error remains at machine precision:"
   ]
  },
  {
   "cell_type": "code",
   "execution_count": 7,
   "metadata": {
    "collapsed": false
   },
   "outputs": [
    {
     "data": {
      "image/png": "[encoded data removed]",
      "text/plain": [
       "<matplotlib.figure.Figure at 0x108d28208>"
      ]
     },
     "metadata": {},
     "output_type": "display_data"
    }
   ],
   "source": [
    "%matplotlib inline\n",
    "import matplotlib.pyplot as plt\n",
    "\n",
    "fig, ax = plt.subplots()\n",
    "ax.plot(times, Eerr, '.')\n",
    "ax.set_xscale('log')\n",
    "ax.set_yscale('log')"
   ]
  }
 ],
 "metadata": {
  "kernelspec": {
   "display_name": "Python 3",
   "language": "python",
   "name": "python3"
  },
  "language_info": {
   "codemirror_mode": {
    "name": "ipython",
    "version": 3
   },
   "file_extension": ".py",
   "mimetype": "text/x-python",
   "name": "python",
   "nbconvert_exporter": "python",
   "pygments_lexer": "ipython3",
   "version": "3.5.1"
  }
 },
 "nbformat": 4,
 "nbformat_minor": 0
}
