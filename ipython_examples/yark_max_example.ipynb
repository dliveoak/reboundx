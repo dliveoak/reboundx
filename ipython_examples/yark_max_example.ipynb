{
 "cells": [
  {
   "cell_type": "markdown",
   "metadata": {},
   "source": [
    "## Yarkovsky Effect - Maximized"
   ]
  },
  {
   "cell_type": "markdown",
   "metadata": {},
   "source": [
    "This example demonstrates how to add a simplified and maximized version of the Yarkovsky effect (Veras, Higuchi, and Ida, 2019) to a Rebound simulation. This version requires fewer parameters, but is not as accurate as the full version. It places an upper bound on how far this effect will push an object inwards or outwards.\n",
    "\n",
    "First we setup a Rebound simulation with the Sun and a test particle (which will be our asteroid) at .5 AU"
   ]
  },
  {
   "cell_type": "code",
   "execution_count": 1,
   "metadata": {},
   "outputs": [
    {
     "name": "stdout",
     "output_type": "stream",
     "text": [
      "\n",
      "***INITIAL ORBITS:***\n",
      "<rebound.Orbit instance, a=0.5000000000000001 e=1.799893761170345e-16 inc=0.0 Omega=0.0 omega=0.0 f=0.0>\n"
     ]
    }
   ],
   "source": [
    "import rebound\n",
    "import reboundx\n",
    "import numpy as np\n",
    "\n",
    "#Simulation begins here\n",
    "sim = rebound.Simulation()\n",
    "\n",
    "sp = sim.particles #simplifies way to access particles parameters \n",
    "\n",
    "sim.units = ('yr', 'AU', 'Msun') #changes simulation and G to units of solar masses, years, and AU  \n",
    "sim.integrator = \"whfast\" #integrator for sim\n",
    "sim.dt = .05 #timestep for sim\n",
    "\n",
    "sim.add(m=1) #Adds Sun \n",
    "sim.add(a=.5, f=0, Omega=0, omega=0, e=0, inc=0, m=0) #Adds test particle \n",
    "\n",
    "#Moves all particles to center of momentum frame\n",
    "sim.move_to_com()\n",
    "\n",
    "#Gives orbital information before the simulation begins\n",
    "print(\"\\n***INITIAL ORBITS:***\")\n",
    "for orbit in sim.calculate_orbits():\n",
    "    print(orbit)"
   ]
  },
  {
   "cell_type": "markdown",
   "metadata": {},
   "source": [
    "We then add the maximized Yarkovsky effect from Reboundx, and adds the required parameters. The effect requires you to add a luminosity to the simulation and a radius and density for each object you want the force to act on. The parameters must be in the same units as the simulation (in this case it's AU/Msun/yr). We also must determine if we want our particle to drift inwards or outwards using the direction flag. Setting it to 1 will push the object outwards while setting it to -1 will push the object inwards. We'll choose outwards for this example."
   ]
  },
  {
   "cell_type": "code",
   "execution_count": 2,
   "metadata": {},
   "outputs": [],
   "source": [
    "rebx = reboundx.Extras(sim)\n",
    "yark = rebx.load_force(\"max_yarkovsky\")\n",
    "\n",
    "au_conv = 1.495978707e11\n",
    "msun_conv = 1.9885e30\n",
    "yr_conv = 31557600.0\n",
    "\n",
    "#Converts units of parameters from m/kg/sec to AU/Msun/yr\n",
    "density = (3000*au_conv*au_conv*au_conv)/msun_conv\n",
    "c = (2.998e8*yr_conv)/au_conv\n",
    "lstar = (3.828e26*yr_conv*yr_conv*yr_conv)/(msun_conv*au_conv*au_conv)\n",
    "radius = 1000/au_conv\n",
    "\n",
    "\n",
    "yark.params[\"my_lstar\"] = lstar\n",
    "yark.params[\"my_c\"] = c\n",
    "sp[1].params[\"my_body_density\"] = density\n",
    "sp[1].params[\"direction_flag\"] = 1\n",
    "sp[1].r = radius\n",
    "\n",
    "rebx.add_force(yark)"
   ]
  },
  {
   "cell_type": "markdown",
   "metadata": {},
   "source": [
    "We integrate this system for 50,000 years and print out the difference between the particle's semi-major axis before and after the simulation."
   ]
  },
  {
   "cell_type": "code",
   "execution_count": 3,
   "metadata": {},
   "outputs": [
    {
     "name": "stdout",
     "output_type": "stream",
     "text": [
      "CHANGE IN SEMI-MAJOR AXIS 2.1235508998351804e-05 AU\n"
     ]
    }
   ],
   "source": [
    "tmax=50000 # in yrs\n",
    "\n",
    "a_start = .5 #starting semi-major axis for the asteroid\n",
    "            \n",
    "sim.integrate(tmax) #integrates system for tmax years       \n",
    " \n",
    "a_final = sp[1].a #semi-major axis of asteroid after the sim    \n",
    "                      \n",
    "print(\"CHANGE IN SEMI-MAJOR AXIS\", a_final-a_start, \"AU\") #prints difference between the intitial and final semi-major axes of asteroid\n"
   ]
  },
  {
   "cell_type": "code",
   "execution_count": null,
   "metadata": {
    "collapsed": true
   },
   "outputs": [],
   "source": []
  }
 ],
 "metadata": {
  "kernelspec": {
   "display_name": "Python 3",
   "language": "python",
   "name": "python3"
  },
  "language_info": {
   "codemirror_mode": {
    "name": "ipython",
    "version": 3
   },
   "file_extension": ".py",
   "mimetype": "text/x-python",
   "name": "python",
   "nbconvert_exporter": "python",
   "pygments_lexer": "ipython3",
   "version": "3.7.7"
  }
 },
 "nbformat": 4,
 "nbformat_minor": 2
}
